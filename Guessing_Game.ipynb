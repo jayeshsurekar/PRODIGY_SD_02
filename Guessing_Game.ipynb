{
  "nbformat": 4,
  "nbformat_minor": 0,
  "metadata": {
    "colab": {
      "provenance": [],
      "authorship_tag": "ABX9TyOrop3Il0E+2WNQ/tV/rcQU",
      "include_colab_link": true
    },
    "kernelspec": {
      "name": "python3",
      "display_name": "Python 3"
    },
    "language_info": {
      "name": "python"
    }
  },
  "cells": [
    {
      "cell_type": "markdown",
      "metadata": {
        "id": "view-in-github",
        "colab_type": "text"
      },
      "source": [
        "<a href=\"https://colab.research.google.com/github/jayeshsurekar/PRODIGY_SD_02/blob/main/Guessing_Game.ipynb\" target=\"_parent\"><img src=\"https://colab.research.google.com/assets/colab-badge.svg\" alt=\"Open In Colab\"/></a>"
      ]
    },
    {
      "cell_type": "code",
      "execution_count": 1,
      "metadata": {
        "colab": {
          "base_uri": "https://localhost:8080/"
        },
        "id": "mW7udAELGTeC",
        "outputId": "3ba8e446-6dd9-4d4a-ba7f-a25421d4667e"
      },
      "outputs": [
        {
          "output_type": "stream",
          "name": "stdout",
          "text": [
            "Enter your name: Jayesh\n",
            "Welcome to the Guessing Game!\n",
            "I have selected a number between 1 and 100.\n",
            "Try to guess it!\n",
            "Enter your guess: 6\n",
            "Too low! Try again.\n",
            "Enter your guess: 55\n",
            "Too high! Try again.\n",
            "Enter your guess: 40\n",
            "Too low! Try again.\n",
            "Enter your guess: 50\n",
            "Too high! Try again.\n",
            "Enter your guess: 48\n",
            "Too low! Try again.\n",
            "Enter your guess: 49\n",
            "Congratulations, Jayesh! You guessed the number in 6 attempts.\n",
            "Failed to send result: 404\n",
            "Do you want to play again? (yes/no): no\n",
            "Thank you for playing!\n"
          ]
        }
      ],
      "source": [
        "import random\n",
        "import requests\n",
        "\n",
        "def send_game_result(player_name, attempts, result):\n",
        "    url = \"http://example.com/api/game_result\"  # Replace with the actual server URL\n",
        "    payload = {\n",
        "        \"player_name\": player_name,\n",
        "        \"attempts\": attempts,\n",
        "        \"result\": result\n",
        "    }\n",
        "    try:\n",
        "        response = requests.post(url, json=payload)\n",
        "        if response.status_code == 200:\n",
        "            print(\"Result sent successfully!\")\n",
        "        else:\n",
        "            print(f\"Failed to send result: {response.status_code}\")\n",
        "    except Exception as e:\n",
        "        print(f\"An error occurred: {e}\")\n",
        "\n",
        "def guessing_game():\n",
        "    number_to_guess = random.randint(1, 100)\n",
        "    attempts = 0\n",
        "    player_name = input(\"Enter your name: \")\n",
        "\n",
        "    print(\"Welcome to the Guessing Game!\")\n",
        "    print(\"I have selected a number between 1 and 100.\")\n",
        "    print(\"Try to guess it!\")\n",
        "\n",
        "    while True:\n",
        "        try:\n",
        "            guess = int(input(\"Enter your guess: \"))\n",
        "            attempts += 1\n",
        "\n",
        "            if guess < number_to_guess:\n",
        "                print(\"Too low! Try again.\")\n",
        "            elif guess > number_to_guess:\n",
        "                print(\"Too high! Try again.\")\n",
        "            else:\n",
        "                print(f\"Congratulations, {player_name}! You guessed the number in {attempts} attempts.\")\n",
        "                send_game_result(player_name, attempts, \"Win\")\n",
        "                break\n",
        "        except ValueError:\n",
        "            print(\"Invalid input. Please enter a number.\")\n",
        "\n",
        "    if input(\"Do you want to play again? (yes/no): \").lower() == \"yes\":\n",
        "        guessing_game()\n",
        "    else:\n",
        "        print(\"Thank you for playing!\")\n",
        "\n",
        "if __name__ == \"__main__\":\n",
        "    guessing_game()\n"
      ]
    }
  ]
}